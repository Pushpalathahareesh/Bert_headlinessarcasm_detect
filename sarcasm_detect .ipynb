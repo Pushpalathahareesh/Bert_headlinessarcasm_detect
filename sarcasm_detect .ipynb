{
  "nbformat": 4,
  "nbformat_minor": 0,
  "metadata": {
    "colab": {
      "name": "sarcasm_detect.ipynb",
      "provenance": [],
      "collapsed_sections": []
    },
    "kernelspec": {
      "name": "python3",
      "display_name": "Python 3"
    },
    "language_info": {
      "name": "python"
    },
    "accelerator": "GPU",
    "widgets": {
      "application/vnd.jupyter.widget-state+json": {
        "f34ddbbb55e242dabf29eef93887e0e4": {
          "model_module": "@jupyter-widgets/controls",
          "model_name": "HBoxModel",
          "state": {
            "_view_name": "HBoxView",
            "_dom_classes": [],
            "_model_name": "HBoxModel",
            "_view_module": "@jupyter-widgets/controls",
            "_model_module_version": "1.5.0",
            "_view_count": null,
            "_view_module_version": "1.5.0",
            "box_style": "",
            "layout": "IPY_MODEL_d54006423439493f9309d14147714dce",
            "_model_module": "@jupyter-widgets/controls",
            "children": [
              "IPY_MODEL_ee2766d52c9045c1b03f4189657fc763",
              "IPY_MODEL_166b0e2d2e974208b05dbb0f3b167275"
            ]
          }
        },
        "d54006423439493f9309d14147714dce": {
          "model_module": "@jupyter-widgets/base",
          "model_name": "LayoutModel",
          "state": {
            "_view_name": "LayoutView",
            "grid_template_rows": null,
            "right": null,
            "justify_content": null,
            "_view_module": "@jupyter-widgets/base",
            "overflow": null,
            "_model_module_version": "1.2.0",
            "_view_count": null,
            "flex_flow": null,
            "width": null,
            "min_width": null,
            "border": null,
            "align_items": null,
            "bottom": null,
            "_model_module": "@jupyter-widgets/base",
            "top": null,
            "grid_column": null,
            "overflow_y": null,
            "overflow_x": null,
            "grid_auto_flow": null,
            "grid_area": null,
            "grid_template_columns": null,
            "flex": null,
            "_model_name": "LayoutModel",
            "justify_items": null,
            "grid_row": null,
            "max_height": null,
            "align_content": null,
            "visibility": null,
            "align_self": null,
            "height": null,
            "min_height": null,
            "padding": null,
            "grid_auto_rows": null,
            "grid_gap": null,
            "max_width": null,
            "order": null,
            "_view_module_version": "1.2.0",
            "grid_template_areas": null,
            "object_position": null,
            "object_fit": null,
            "grid_auto_columns": null,
            "margin": null,
            "display": null,
            "left": null
          }
        },
        "ee2766d52c9045c1b03f4189657fc763": {
          "model_module": "@jupyter-widgets/controls",
          "model_name": "FloatProgressModel",
          "state": {
            "_view_name": "ProgressView",
            "style": "IPY_MODEL_35937aa4b7eb4687a2311d702ed16d63",
            "_dom_classes": [],
            "description": "Downloading: 100%",
            "_model_name": "FloatProgressModel",
            "bar_style": "success",
            "max": 231508,
            "_view_module": "@jupyter-widgets/controls",
            "_model_module_version": "1.5.0",
            "value": 231508,
            "_view_count": null,
            "_view_module_version": "1.5.0",
            "orientation": "horizontal",
            "min": 0,
            "description_tooltip": null,
            "_model_module": "@jupyter-widgets/controls",
            "layout": "IPY_MODEL_cb6db84e31ba43a9bfe88e2de4ffcdc6"
          }
        },
        "166b0e2d2e974208b05dbb0f3b167275": {
          "model_module": "@jupyter-widgets/controls",
          "model_name": "HTMLModel",
          "state": {
            "_view_name": "HTMLView",
            "style": "IPY_MODEL_3ed506be68304fdaaeee343657a6b5f6",
            "_dom_classes": [],
            "description": "",
            "_model_name": "HTMLModel",
            "placeholder": "​",
            "_view_module": "@jupyter-widgets/controls",
            "_model_module_version": "1.5.0",
            "value": " 232k/232k [00:01&lt;00:00, 123kB/s]",
            "_view_count": null,
            "_view_module_version": "1.5.0",
            "description_tooltip": null,
            "_model_module": "@jupyter-widgets/controls",
            "layout": "IPY_MODEL_9c9a02bc93414fe9b7c5d957f486451f"
          }
        },
        "35937aa4b7eb4687a2311d702ed16d63": {
          "model_module": "@jupyter-widgets/controls",
          "model_name": "ProgressStyleModel",
          "state": {
            "_view_name": "StyleView",
            "_model_name": "ProgressStyleModel",
            "description_width": "initial",
            "_view_module": "@jupyter-widgets/base",
            "_model_module_version": "1.5.0",
            "_view_count": null,
            "_view_module_version": "1.2.0",
            "bar_color": null,
            "_model_module": "@jupyter-widgets/controls"
          }
        },
        "cb6db84e31ba43a9bfe88e2de4ffcdc6": {
          "model_module": "@jupyter-widgets/base",
          "model_name": "LayoutModel",
          "state": {
            "_view_name": "LayoutView",
            "grid_template_rows": null,
            "right": null,
            "justify_content": null,
            "_view_module": "@jupyter-widgets/base",
            "overflow": null,
            "_model_module_version": "1.2.0",
            "_view_count": null,
            "flex_flow": null,
            "width": null,
            "min_width": null,
            "border": null,
            "align_items": null,
            "bottom": null,
            "_model_module": "@jupyter-widgets/base",
            "top": null,
            "grid_column": null,
            "overflow_y": null,
            "overflow_x": null,
            "grid_auto_flow": null,
            "grid_area": null,
            "grid_template_columns": null,
            "flex": null,
            "_model_name": "LayoutModel",
            "justify_items": null,
            "grid_row": null,
            "max_height": null,
            "align_content": null,
            "visibility": null,
            "align_self": null,
            "height": null,
            "min_height": null,
            "padding": null,
            "grid_auto_rows": null,
            "grid_gap": null,
            "max_width": null,
            "order": null,
            "_view_module_version": "1.2.0",
            "grid_template_areas": null,
            "object_position": null,
            "object_fit": null,
            "grid_auto_columns": null,
            "margin": null,
            "display": null,
            "left": null
          }
        },
        "3ed506be68304fdaaeee343657a6b5f6": {
          "model_module": "@jupyter-widgets/controls",
          "model_name": "DescriptionStyleModel",
          "state": {
            "_view_name": "StyleView",
            "_model_name": "DescriptionStyleModel",
            "description_width": "",
            "_view_module": "@jupyter-widgets/base",
            "_model_module_version": "1.5.0",
            "_view_count": null,
            "_view_module_version": "1.2.0",
            "_model_module": "@jupyter-widgets/controls"
          }
        },
        "9c9a02bc93414fe9b7c5d957f486451f": {
          "model_module": "@jupyter-widgets/base",
          "model_name": "LayoutModel",
          "state": {
            "_view_name": "LayoutView",
            "grid_template_rows": null,
            "right": null,
            "justify_content": null,
            "_view_module": "@jupyter-widgets/base",
            "overflow": null,
            "_model_module_version": "1.2.0",
            "_view_count": null,
            "flex_flow": null,
            "width": null,
            "min_width": null,
            "border": null,
            "align_items": null,
            "bottom": null,
            "_model_module": "@jupyter-widgets/base",
            "top": null,
            "grid_column": null,
            "overflow_y": null,
            "overflow_x": null,
            "grid_auto_flow": null,
            "grid_area": null,
            "grid_template_columns": null,
            "flex": null,
            "_model_name": "LayoutModel",
            "justify_items": null,
            "grid_row": null,
            "max_height": null,
            "align_content": null,
            "visibility": null,
            "align_self": null,
            "height": null,
            "min_height": null,
            "padding": null,
            "grid_auto_rows": null,
            "grid_gap": null,
            "max_width": null,
            "order": null,
            "_view_module_version": "1.2.0",
            "grid_template_areas": null,
            "object_position": null,
            "object_fit": null,
            "grid_auto_columns": null,
            "margin": null,
            "display": null,
            "left": null
          }
        },
        "9f1e2d4fa6a74aa1a67b4d7640229eb2": {
          "model_module": "@jupyter-widgets/controls",
          "model_name": "HBoxModel",
          "state": {
            "_view_name": "HBoxView",
            "_dom_classes": [],
            "_model_name": "HBoxModel",
            "_view_module": "@jupyter-widgets/controls",
            "_model_module_version": "1.5.0",
            "_view_count": null,
            "_view_module_version": "1.5.0",
            "box_style": "",
            "layout": "IPY_MODEL_0c203202848c4ae9a67fe55398505ddd",
            "_model_module": "@jupyter-widgets/controls",
            "children": [
              "IPY_MODEL_826c75ea28e244fc8ca16318b6dd859e",
              "IPY_MODEL_43e40554c3d94635a966ef5edb2f08fb"
            ]
          }
        },
        "0c203202848c4ae9a67fe55398505ddd": {
          "model_module": "@jupyter-widgets/base",
          "model_name": "LayoutModel",
          "state": {
            "_view_name": "LayoutView",
            "grid_template_rows": null,
            "right": null,
            "justify_content": null,
            "_view_module": "@jupyter-widgets/base",
            "overflow": null,
            "_model_module_version": "1.2.0",
            "_view_count": null,
            "flex_flow": null,
            "width": null,
            "min_width": null,
            "border": null,
            "align_items": null,
            "bottom": null,
            "_model_module": "@jupyter-widgets/base",
            "top": null,
            "grid_column": null,
            "overflow_y": null,
            "overflow_x": null,
            "grid_auto_flow": null,
            "grid_area": null,
            "grid_template_columns": null,
            "flex": null,
            "_model_name": "LayoutModel",
            "justify_items": null,
            "grid_row": null,
            "max_height": null,
            "align_content": null,
            "visibility": null,
            "align_self": null,
            "height": null,
            "min_height": null,
            "padding": null,
            "grid_auto_rows": null,
            "grid_gap": null,
            "max_width": null,
            "order": null,
            "_view_module_version": "1.2.0",
            "grid_template_areas": null,
            "object_position": null,
            "object_fit": null,
            "grid_auto_columns": null,
            "margin": null,
            "display": null,
            "left": null
          }
        },
        "826c75ea28e244fc8ca16318b6dd859e": {
          "model_module": "@jupyter-widgets/controls",
          "model_name": "FloatProgressModel",
          "state": {
            "_view_name": "ProgressView",
            "style": "IPY_MODEL_daebd4a7d2c04d4b933c90dedc61e7a0",
            "_dom_classes": [],
            "description": "Downloading: 100%",
            "_model_name": "FloatProgressModel",
            "bar_style": "success",
            "max": 28,
            "_view_module": "@jupyter-widgets/controls",
            "_model_module_version": "1.5.0",
            "value": 28,
            "_view_count": null,
            "_view_module_version": "1.5.0",
            "orientation": "horizontal",
            "min": 0,
            "description_tooltip": null,
            "_model_module": "@jupyter-widgets/controls",
            "layout": "IPY_MODEL_49fbb54bfc634f01898e93837f69000a"
          }
        },
        "43e40554c3d94635a966ef5edb2f08fb": {
          "model_module": "@jupyter-widgets/controls",
          "model_name": "HTMLModel",
          "state": {
            "_view_name": "HTMLView",
            "style": "IPY_MODEL_b18956666145418a8e719db4476fd5b1",
            "_dom_classes": [],
            "description": "",
            "_model_name": "HTMLModel",
            "placeholder": "​",
            "_view_module": "@jupyter-widgets/controls",
            "_model_module_version": "1.5.0",
            "value": " 28.0/28.0 [00:00&lt;00:00, 59.3B/s]",
            "_view_count": null,
            "_view_module_version": "1.5.0",
            "description_tooltip": null,
            "_model_module": "@jupyter-widgets/controls",
            "layout": "IPY_MODEL_7bc4d894f104487f98a5baa57704b5c3"
          }
        },
        "daebd4a7d2c04d4b933c90dedc61e7a0": {
          "model_module": "@jupyter-widgets/controls",
          "model_name": "ProgressStyleModel",
          "state": {
            "_view_name": "StyleView",
            "_model_name": "ProgressStyleModel",
            "description_width": "initial",
            "_view_module": "@jupyter-widgets/base",
            "_model_module_version": "1.5.0",
            "_view_count": null,
            "_view_module_version": "1.2.0",
            "bar_color": null,
            "_model_module": "@jupyter-widgets/controls"
          }
        },
        "49fbb54bfc634f01898e93837f69000a": {
          "model_module": "@jupyter-widgets/base",
          "model_name": "LayoutModel",
          "state": {
            "_view_name": "LayoutView",
            "grid_template_rows": null,
            "right": null,
            "justify_content": null,
            "_view_module": "@jupyter-widgets/base",
            "overflow": null,
            "_model_module_version": "1.2.0",
            "_view_count": null,
            "flex_flow": null,
            "width": null,
            "min_width": null,
            "border": null,
            "align_items": null,
            "bottom": null,
            "_model_module": "@jupyter-widgets/base",
            "top": null,
            "grid_column": null,
            "overflow_y": null,
            "overflow_x": null,
            "grid_auto_flow": null,
            "grid_area": null,
            "grid_template_columns": null,
            "flex": null,
            "_model_name": "LayoutModel",
            "justify_items": null,
            "grid_row": null,
            "max_height": null,
            "align_content": null,
            "visibility": null,
            "align_self": null,
            "height": null,
            "min_height": null,
            "padding": null,
            "grid_auto_rows": null,
            "grid_gap": null,
            "max_width": null,
            "order": null,
            "_view_module_version": "1.2.0",
            "grid_template_areas": null,
            "object_position": null,
            "object_fit": null,
            "grid_auto_columns": null,
            "margin": null,
            "display": null,
            "left": null
          }
        },
        "b18956666145418a8e719db4476fd5b1": {
          "model_module": "@jupyter-widgets/controls",
          "model_name": "DescriptionStyleModel",
          "state": {
            "_view_name": "StyleView",
            "_model_name": "DescriptionStyleModel",
            "description_width": "",
            "_view_module": "@jupyter-widgets/base",
            "_model_module_version": "1.5.0",
            "_view_count": null,
            "_view_module_version": "1.2.0",
            "_model_module": "@jupyter-widgets/controls"
          }
        },
        "7bc4d894f104487f98a5baa57704b5c3": {
          "model_module": "@jupyter-widgets/base",
          "model_name": "LayoutModel",
          "state": {
            "_view_name": "LayoutView",
            "grid_template_rows": null,
            "right": null,
            "justify_content": null,
            "_view_module": "@jupyter-widgets/base",
            "overflow": null,
            "_model_module_version": "1.2.0",
            "_view_count": null,
            "flex_flow": null,
            "width": null,
            "min_width": null,
            "border": null,
            "align_items": null,
            "bottom": null,
            "_model_module": "@jupyter-widgets/base",
            "top": null,
            "grid_column": null,
            "overflow_y": null,
            "overflow_x": null,
            "grid_auto_flow": null,
            "grid_area": null,
            "grid_template_columns": null,
            "flex": null,
            "_model_name": "LayoutModel",
            "justify_items": null,
            "grid_row": null,
            "max_height": null,
            "align_content": null,
            "visibility": null,
            "align_self": null,
            "height": null,
            "min_height": null,
            "padding": null,
            "grid_auto_rows": null,
            "grid_gap": null,
            "max_width": null,
            "order": null,
            "_view_module_version": "1.2.0",
            "grid_template_areas": null,
            "object_position": null,
            "object_fit": null,
            "grid_auto_columns": null,
            "margin": null,
            "display": null,
            "left": null
          }
        },
        "e751821145794154b612984ac5e42829": {
          "model_module": "@jupyter-widgets/controls",
          "model_name": "HBoxModel",
          "state": {
            "_view_name": "HBoxView",
            "_dom_classes": [],
            "_model_name": "HBoxModel",
            "_view_module": "@jupyter-widgets/controls",
            "_model_module_version": "1.5.0",
            "_view_count": null,
            "_view_module_version": "1.5.0",
            "box_style": "",
            "layout": "IPY_MODEL_457ecd2b287345c4be927b36c654e111",
            "_model_module": "@jupyter-widgets/controls",
            "children": [
              "IPY_MODEL_a44dd9e4c5d44948856b79bf94ddeb70",
              "IPY_MODEL_0d3f33ac89974c41a88c9e1934ae7636"
            ]
          }
        },
        "457ecd2b287345c4be927b36c654e111": {
          "model_module": "@jupyter-widgets/base",
          "model_name": "LayoutModel",
          "state": {
            "_view_name": "LayoutView",
            "grid_template_rows": null,
            "right": null,
            "justify_content": null,
            "_view_module": "@jupyter-widgets/base",
            "overflow": null,
            "_model_module_version": "1.2.0",
            "_view_count": null,
            "flex_flow": null,
            "width": null,
            "min_width": null,
            "border": null,
            "align_items": null,
            "bottom": null,
            "_model_module": "@jupyter-widgets/base",
            "top": null,
            "grid_column": null,
            "overflow_y": null,
            "overflow_x": null,
            "grid_auto_flow": null,
            "grid_area": null,
            "grid_template_columns": null,
            "flex": null,
            "_model_name": "LayoutModel",
            "justify_items": null,
            "grid_row": null,
            "max_height": null,
            "align_content": null,
            "visibility": null,
            "align_self": null,
            "height": null,
            "min_height": null,
            "padding": null,
            "grid_auto_rows": null,
            "grid_gap": null,
            "max_width": null,
            "order": null,
            "_view_module_version": "1.2.0",
            "grid_template_areas": null,
            "object_position": null,
            "object_fit": null,
            "grid_auto_columns": null,
            "margin": null,
            "display": null,
            "left": null
          }
        },
        "a44dd9e4c5d44948856b79bf94ddeb70": {
          "model_module": "@jupyter-widgets/controls",
          "model_name": "FloatProgressModel",
          "state": {
            "_view_name": "ProgressView",
            "style": "IPY_MODEL_5daf8b312929428892c3b4b1947aab04",
            "_dom_classes": [],
            "description": "Downloading: 100%",
            "_model_name": "FloatProgressModel",
            "bar_style": "success",
            "max": 466062,
            "_view_module": "@jupyter-widgets/controls",
            "_model_module_version": "1.5.0",
            "value": 466062,
            "_view_count": null,
            "_view_module_version": "1.5.0",
            "orientation": "horizontal",
            "min": 0,
            "description_tooltip": null,
            "_model_module": "@jupyter-widgets/controls",
            "layout": "IPY_MODEL_cc6fd3cbccc84e96aeb8f5e9a4c76603"
          }
        },
        "0d3f33ac89974c41a88c9e1934ae7636": {
          "model_module": "@jupyter-widgets/controls",
          "model_name": "HTMLModel",
          "state": {
            "_view_name": "HTMLView",
            "style": "IPY_MODEL_83dfaf95ef9f4fa18c52419212869f02",
            "_dom_classes": [],
            "description": "",
            "_model_name": "HTMLModel",
            "placeholder": "​",
            "_view_module": "@jupyter-widgets/controls",
            "_model_module_version": "1.5.0",
            "value": " 466k/466k [00:00&lt;00:00, 1.37MB/s]",
            "_view_count": null,
            "_view_module_version": "1.5.0",
            "description_tooltip": null,
            "_model_module": "@jupyter-widgets/controls",
            "layout": "IPY_MODEL_7d8c9c60540f4f8586f63739d8811e26"
          }
        },
        "5daf8b312929428892c3b4b1947aab04": {
          "model_module": "@jupyter-widgets/controls",
          "model_name": "ProgressStyleModel",
          "state": {
            "_view_name": "StyleView",
            "_model_name": "ProgressStyleModel",
            "description_width": "initial",
            "_view_module": "@jupyter-widgets/base",
            "_model_module_version": "1.5.0",
            "_view_count": null,
            "_view_module_version": "1.2.0",
            "bar_color": null,
            "_model_module": "@jupyter-widgets/controls"
          }
        },
        "cc6fd3cbccc84e96aeb8f5e9a4c76603": {
          "model_module": "@jupyter-widgets/base",
          "model_name": "LayoutModel",
          "state": {
            "_view_name": "LayoutView",
            "grid_template_rows": null,
            "right": null,
            "justify_content": null,
            "_view_module": "@jupyter-widgets/base",
            "overflow": null,
            "_model_module_version": "1.2.0",
            "_view_count": null,
            "flex_flow": null,
            "width": null,
            "min_width": null,
            "border": null,
            "align_items": null,
            "bottom": null,
            "_model_module": "@jupyter-widgets/base",
            "top": null,
            "grid_column": null,
            "overflow_y": null,
            "overflow_x": null,
            "grid_auto_flow": null,
            "grid_area": null,
            "grid_template_columns": null,
            "flex": null,
            "_model_name": "LayoutModel",
            "justify_items": null,
            "grid_row": null,
            "max_height": null,
            "align_content": null,
            "visibility": null,
            "align_self": null,
            "height": null,
            "min_height": null,
            "padding": null,
            "grid_auto_rows": null,
            "grid_gap": null,
            "max_width": null,
            "order": null,
            "_view_module_version": "1.2.0",
            "grid_template_areas": null,
            "object_position": null,
            "object_fit": null,
            "grid_auto_columns": null,
            "margin": null,
            "display": null,
            "left": null
          }
        },
        "83dfaf95ef9f4fa18c52419212869f02": {
          "model_module": "@jupyter-widgets/controls",
          "model_name": "DescriptionStyleModel",
          "state": {
            "_view_name": "StyleView",
            "_model_name": "DescriptionStyleModel",
            "description_width": "",
            "_view_module": "@jupyter-widgets/base",
            "_model_module_version": "1.5.0",
            "_view_count": null,
            "_view_module_version": "1.2.0",
            "_model_module": "@jupyter-widgets/controls"
          }
        },
        "7d8c9c60540f4f8586f63739d8811e26": {
          "model_module": "@jupyter-widgets/base",
          "model_name": "LayoutModel",
          "state": {
            "_view_name": "LayoutView",
            "grid_template_rows": null,
            "right": null,
            "justify_content": null,
            "_view_module": "@jupyter-widgets/base",
            "overflow": null,
            "_model_module_version": "1.2.0",
            "_view_count": null,
            "flex_flow": null,
            "width": null,
            "min_width": null,
            "border": null,
            "align_items": null,
            "bottom": null,
            "_model_module": "@jupyter-widgets/base",
            "top": null,
            "grid_column": null,
            "overflow_y": null,
            "overflow_x": null,
            "grid_auto_flow": null,
            "grid_area": null,
            "grid_template_columns": null,
            "flex": null,
            "_model_name": "LayoutModel",
            "justify_items": null,
            "grid_row": null,
            "max_height": null,
            "align_content": null,
            "visibility": null,
            "align_self": null,
            "height": null,
            "min_height": null,
            "padding": null,
            "grid_auto_rows": null,
            "grid_gap": null,
            "max_width": null,
            "order": null,
            "_view_module_version": "1.2.0",
            "grid_template_areas": null,
            "object_position": null,
            "object_fit": null,
            "grid_auto_columns": null,
            "margin": null,
            "display": null,
            "left": null
          }
        }
      }
    }
  },
  "cells": [
    {
      "cell_type": "code",
      "metadata": {
        "colab": {
          "base_uri": "https://localhost:8080/"
        },
        "id": "4CaSovW_xUfJ",
        "outputId": "21f443a6-64cd-428b-98b9-4ee144ef48e4"
      },
      "source": [
        "\n",
        "from google.colab import drive\n",
        "drive.mount('/content/drive',force_remount=True)"
      ],
      "execution_count": 1,
      "outputs": [
        {
          "output_type": "stream",
          "text": [
            "Mounted at /content/drive\n"
          ],
          "name": "stdout"
        }
      ]
    },
    {
      "cell_type": "code",
      "metadata": {
        "colab": {
          "base_uri": "https://localhost:8080/"
        },
        "id": "C3HxboSe2hXL",
        "outputId": "f70f46e1-db70-4a9f-bc7d-357202b865b5"
      },
      "source": [
        "!pip install transformers"
      ],
      "execution_count": 2,
      "outputs": [
        {
          "output_type": "stream",
          "text": [
            "Collecting transformers\n",
            "\u001b[?25l  Downloading https://files.pythonhosted.org/packages/81/91/61d69d58a1af1bd81d9ca9d62c90a6de3ab80d77f27c5df65d9a2c1f5626/transformers-4.5.0-py3-none-any.whl (2.1MB)\n",
            "\u001b[K     |████████████████████████████████| 2.2MB 9.0MB/s \n",
            "\u001b[?25hRequirement already satisfied: regex!=2019.12.17 in /usr/local/lib/python3.7/dist-packages (from transformers) (2019.12.20)\n",
            "Collecting sacremoses\n",
            "\u001b[?25l  Downloading https://files.pythonhosted.org/packages/08/cd/342e584ee544d044fb573ae697404ce22ede086c9e87ce5960772084cad0/sacremoses-0.0.44.tar.gz (862kB)\n",
            "\u001b[K     |████████████████████████████████| 870kB 46.7MB/s \n",
            "\u001b[?25hRequirement already satisfied: requests in /usr/local/lib/python3.7/dist-packages (from transformers) (2.23.0)\n",
            "Requirement already satisfied: numpy>=1.17 in /usr/local/lib/python3.7/dist-packages (from transformers) (1.19.5)\n",
            "Requirement already satisfied: importlib-metadata; python_version < \"3.8\" in /usr/local/lib/python3.7/dist-packages (from transformers) (3.8.1)\n",
            "Collecting tokenizers<0.11,>=0.10.1\n",
            "\u001b[?25l  Downloading https://files.pythonhosted.org/packages/ae/04/5b870f26a858552025a62f1649c20d29d2672c02ff3c3fb4c688ca46467a/tokenizers-0.10.2-cp37-cp37m-manylinux2010_x86_64.whl (3.3MB)\n",
            "\u001b[K     |████████████████████████████████| 3.3MB 54.3MB/s \n",
            "\u001b[?25hRequirement already satisfied: tqdm>=4.27 in /usr/local/lib/python3.7/dist-packages (from transformers) (4.41.1)\n",
            "Requirement already satisfied: packaging in /usr/local/lib/python3.7/dist-packages (from transformers) (20.9)\n",
            "Requirement already satisfied: filelock in /usr/local/lib/python3.7/dist-packages (from transformers) (3.0.12)\n",
            "Requirement already satisfied: six in /usr/local/lib/python3.7/dist-packages (from sacremoses->transformers) (1.15.0)\n",
            "Requirement already satisfied: click in /usr/local/lib/python3.7/dist-packages (from sacremoses->transformers) (7.1.2)\n",
            "Requirement already satisfied: joblib in /usr/local/lib/python3.7/dist-packages (from sacremoses->transformers) (1.0.1)\n",
            "Requirement already satisfied: certifi>=2017.4.17 in /usr/local/lib/python3.7/dist-packages (from requests->transformers) (2020.12.5)\n",
            "Requirement already satisfied: idna<3,>=2.5 in /usr/local/lib/python3.7/dist-packages (from requests->transformers) (2.10)\n",
            "Requirement already satisfied: chardet<4,>=3.0.2 in /usr/local/lib/python3.7/dist-packages (from requests->transformers) (3.0.4)\n",
            "Requirement already satisfied: urllib3!=1.25.0,!=1.25.1,<1.26,>=1.21.1 in /usr/local/lib/python3.7/dist-packages (from requests->transformers) (1.24.3)\n",
            "Requirement already satisfied: typing-extensions>=3.6.4; python_version < \"3.8\" in /usr/local/lib/python3.7/dist-packages (from importlib-metadata; python_version < \"3.8\"->transformers) (3.7.4.3)\n",
            "Requirement already satisfied: zipp>=0.5 in /usr/local/lib/python3.7/dist-packages (from importlib-metadata; python_version < \"3.8\"->transformers) (3.4.1)\n",
            "Requirement already satisfied: pyparsing>=2.0.2 in /usr/local/lib/python3.7/dist-packages (from packaging->transformers) (2.4.7)\n",
            "Building wheels for collected packages: sacremoses\n",
            "  Building wheel for sacremoses (setup.py) ... \u001b[?25l\u001b[?25hdone\n",
            "  Created wheel for sacremoses: filename=sacremoses-0.0.44-cp37-none-any.whl size=886084 sha256=c2a08d081379a694bff17067e999236cda0c4a6c74c4e0fb57f6d5be3693189c\n",
            "  Stored in directory: /root/.cache/pip/wheels/3e/fb/c0/13ab4d63d537658f448366744654323077c4d90069b6512f3c\n",
            "Successfully built sacremoses\n",
            "Installing collected packages: sacremoses, tokenizers, transformers\n",
            "Successfully installed sacremoses-0.0.44 tokenizers-0.10.2 transformers-4.5.0\n"
          ],
          "name": "stdout"
        }
      ]
    },
    {
      "cell_type": "markdown",
      "metadata": {
        "id": "GCBylRK31K1k"
      },
      "source": [
        "step1:Import required library"
      ]
    },
    {
      "cell_type": "code",
      "metadata": {
        "id": "xZMOJe0B0fmm"
      },
      "source": [
        "import numpy as np \n",
        "import pandas as pd \n",
        "import matplotlib.pyplot as plt\n",
        "import seaborn as sns\n",
        "from sklearn import metrics\n",
        "from sklearn.model_selection import train_test_split\n",
        "from sklearn.metrics import plot_confusion_matrix\n",
        "from sklearn.metrics import confusion_matrix\n",
        "import keras\n",
        "import tensorflow as tf\n",
        "import tensorflow_hub as hub\n",
        "from tensorflow import keras \n",
        "from keras import backend as K\n",
        "from tensorflow.keras.preprocessing import sequence\n",
        "from tensorflow.keras.preprocessing.text import Tokenizer\n",
        "from tensorflow.keras.preprocessing.sequence import pad_sequences\n",
        "from tensorflow.keras.optimizers import Adam\n",
        "from keras.layers import Dense,Input\n",
        "from keras.models import Model\n",
        "import torch\n",
        "import transformers"
      ],
      "execution_count": 5,
      "outputs": []
    },
    {
      "cell_type": "markdown",
      "metadata": {
        "id": "n5J2enGq3GWB"
      },
      "source": [
        "Load the dataset"
      ]
    },
    {
      "cell_type": "code",
      "metadata": {
        "colab": {
          "base_uri": "https://localhost:8080/",
          "height": 204
        },
        "id": "R-KBmSj625jY",
        "outputId": "175a5d3e-aa0c-4084-a6f8-49caafcba71a"
      },
      "source": [
        "df = pd.read_json(\"/content/drive/MyDrive/Sarcasm_Headlines_Dataset.json\", lines=True)\n",
        "df.head()"
      ],
      "execution_count": 6,
      "outputs": [
        {
          "output_type": "execute_result",
          "data": {
            "text/html": [
              "<div>\n",
              "<style scoped>\n",
              "    .dataframe tbody tr th:only-of-type {\n",
              "        vertical-align: middle;\n",
              "    }\n",
              "\n",
              "    .dataframe tbody tr th {\n",
              "        vertical-align: top;\n",
              "    }\n",
              "\n",
              "    .dataframe thead th {\n",
              "        text-align: right;\n",
              "    }\n",
              "</style>\n",
              "<table border=\"1\" class=\"dataframe\">\n",
              "  <thead>\n",
              "    <tr style=\"text-align: right;\">\n",
              "      <th></th>\n",
              "      <th>article_link</th>\n",
              "      <th>headline</th>\n",
              "      <th>is_sarcastic</th>\n",
              "    </tr>\n",
              "  </thead>\n",
              "  <tbody>\n",
              "    <tr>\n",
              "      <th>0</th>\n",
              "      <td>https://www.huffingtonpost.com/entry/versace-b...</td>\n",
              "      <td>former versace store clerk sues over secret 'b...</td>\n",
              "      <td>0</td>\n",
              "    </tr>\n",
              "    <tr>\n",
              "      <th>1</th>\n",
              "      <td>https://www.huffingtonpost.com/entry/roseanne-...</td>\n",
              "      <td>the 'roseanne' revival catches up to our thorn...</td>\n",
              "      <td>0</td>\n",
              "    </tr>\n",
              "    <tr>\n",
              "      <th>2</th>\n",
              "      <td>https://local.theonion.com/mom-starting-to-fea...</td>\n",
              "      <td>mom starting to fear son's web series closest ...</td>\n",
              "      <td>1</td>\n",
              "    </tr>\n",
              "    <tr>\n",
              "      <th>3</th>\n",
              "      <td>https://politics.theonion.com/boehner-just-wan...</td>\n",
              "      <td>boehner just wants wife to listen, not come up...</td>\n",
              "      <td>1</td>\n",
              "    </tr>\n",
              "    <tr>\n",
              "      <th>4</th>\n",
              "      <td>https://www.huffingtonpost.com/entry/jk-rowlin...</td>\n",
              "      <td>j.k. rowling wishes snape happy birthday in th...</td>\n",
              "      <td>0</td>\n",
              "    </tr>\n",
              "  </tbody>\n",
              "</table>\n",
              "</div>"
            ],
            "text/plain": [
              "                                        article_link  ... is_sarcastic\n",
              "0  https://www.huffingtonpost.com/entry/versace-b...  ...            0\n",
              "1  https://www.huffingtonpost.com/entry/roseanne-...  ...            0\n",
              "2  https://local.theonion.com/mom-starting-to-fea...  ...            1\n",
              "3  https://politics.theonion.com/boehner-just-wan...  ...            1\n",
              "4  https://www.huffingtonpost.com/entry/jk-rowlin...  ...            0\n",
              "\n",
              "[5 rows x 3 columns]"
            ]
          },
          "metadata": {
            "tags": []
          },
          "execution_count": 6
        }
      ]
    },
    {
      "cell_type": "markdown",
      "metadata": {
        "id": "R-P3YZjz3Wkx"
      },
      "source": [
        "Drop article link from the dataset"
      ]
    },
    {
      "cell_type": "code",
      "metadata": {
        "id": "9X757IXo3VmG"
      },
      "source": [
        "df.drop('article_link', axis=1, inplace=True)"
      ],
      "execution_count": 7,
      "outputs": []
    },
    {
      "cell_type": "code",
      "metadata": {
        "colab": {
          "base_uri": "https://localhost:8080/",
          "height": 173
        },
        "id": "U56bVO674mF0",
        "outputId": "54e46322-9528-4632-ddbe-63b9a2cac2cc"
      },
      "source": [
        "df.head(4)"
      ],
      "execution_count": 8,
      "outputs": [
        {
          "output_type": "execute_result",
          "data": {
            "text/html": [
              "<div>\n",
              "<style scoped>\n",
              "    .dataframe tbody tr th:only-of-type {\n",
              "        vertical-align: middle;\n",
              "    }\n",
              "\n",
              "    .dataframe tbody tr th {\n",
              "        vertical-align: top;\n",
              "    }\n",
              "\n",
              "    .dataframe thead th {\n",
              "        text-align: right;\n",
              "    }\n",
              "</style>\n",
              "<table border=\"1\" class=\"dataframe\">\n",
              "  <thead>\n",
              "    <tr style=\"text-align: right;\">\n",
              "      <th></th>\n",
              "      <th>headline</th>\n",
              "      <th>is_sarcastic</th>\n",
              "    </tr>\n",
              "  </thead>\n",
              "  <tbody>\n",
              "    <tr>\n",
              "      <th>0</th>\n",
              "      <td>former versace store clerk sues over secret 'b...</td>\n",
              "      <td>0</td>\n",
              "    </tr>\n",
              "    <tr>\n",
              "      <th>1</th>\n",
              "      <td>the 'roseanne' revival catches up to our thorn...</td>\n",
              "      <td>0</td>\n",
              "    </tr>\n",
              "    <tr>\n",
              "      <th>2</th>\n",
              "      <td>mom starting to fear son's web series closest ...</td>\n",
              "      <td>1</td>\n",
              "    </tr>\n",
              "    <tr>\n",
              "      <th>3</th>\n",
              "      <td>boehner just wants wife to listen, not come up...</td>\n",
              "      <td>1</td>\n",
              "    </tr>\n",
              "  </tbody>\n",
              "</table>\n",
              "</div>"
            ],
            "text/plain": [
              "                                            headline  is_sarcastic\n",
              "0  former versace store clerk sues over secret 'b...             0\n",
              "1  the 'roseanne' revival catches up to our thorn...             0\n",
              "2  mom starting to fear son's web series closest ...             1\n",
              "3  boehner just wants wife to listen, not come up...             1"
            ]
          },
          "metadata": {
            "tags": []
          },
          "execution_count": 8
        }
      ]
    },
    {
      "cell_type": "code",
      "metadata": {
        "colab": {
          "base_uri": "https://localhost:8080/"
        },
        "id": "NUOKt2_CEFsq",
        "outputId": "6b8fd1d5-0aa8-4524-f42c-871395eb8897"
      },
      "source": [
        "import nltk\n",
        "nltk.download('stopwords')\n",
        "\n",
        "#from stop_words import get_stop_words\n",
        "from nltk.corpus import stopwords"
      ],
      "execution_count": 9,
      "outputs": [
        {
          "output_type": "stream",
          "text": [
            "[nltk_data] Downloading package stopwords to /root/nltk_data...\n",
            "[nltk_data]   Unzipping corpora/stopwords.zip.\n"
          ],
          "name": "stdout"
        }
      ]
    },
    {
      "cell_type": "markdown",
      "metadata": {
        "id": "othP7IlO4_aH"
      },
      "source": [
        "step2:Data preprocessing"
      ]
    },
    {
      "cell_type": "code",
      "metadata": {
        "colab": {
          "base_uri": "https://localhost:8080/"
        },
        "id": "b8k-qL3y4pC5",
        "outputId": "3747afbb-b498-4e06-a5be-2cf74886b4fb"
      },
      "source": [
        "import string\n",
        "stop = set(stopwords.words('english'))\n",
        "punctuation = list(string.punctuation)\n",
        "stop.update(punctuation)\n",
        "print(stop)"
      ],
      "execution_count": 10,
      "outputs": [
        {
          "output_type": "stream",
          "text": [
            "{\"you'd\", '-', '#', 'ain', 'only', 'are', 'yours', 'up', 'out', 'on', 'itself', '*', 'once', 'weren', 'do', 'just', \"didn't\", 'herself', \"she's\", '?', '$', 'more', \"shouldn't\", 'further', 'it', 'our', ']', 'between', 'how', '+', '}', 'had', 'theirs', 'very', 'over', 'ours', 'with', 'themselves', 'through', '{', \"mightn't\", 'under', 'hers', \"you'll\", 'its', 'having', 'yourself', 'mightn', '\\\\', 'until', \"that'll\", 'ourselves', \"you've\", 'his', 'above', ')', '|', '_', 'the', 'doesn', \"shan't\", '[', 've', 'into', 'same', 't', '!', 'such', 'can', 'is', \"aren't\", 'doing', 'we', 'so', 'have', '^', 'against', 'as', 'few', 'will', ',', '(', ':', 'if', 'their', '.', 'there', 'hasn', 'my', 'by', 'ma', 'yourselves', '%', 'you', 'has', 'both', '/', 'haven', 'too', 'some', 'who', 'or', 'isn', 'couldn', 'but', 'which', 'and', 'own', '=', ';', 'not', 'was', 'about', \"hadn't\", 'him', \"haven't\", 'all', 'where', '&', 'myself', 'again', 'does', 'for', 'any', 'were', 'what', 'don', 'down', 'hadn', 'during', 'here', 's', 'no', 'm', \"weren't\", '@', 'these', 'then', 'o', \"'\", 'because', 'most', 'didn', \"isn't\", 'should', \"don't\", \"wouldn't\", 'before', \"you're\", \"hasn't\", 'll', 'y', 'did', '\"', 'off', 'wasn', 'when', 'whom', 'needn', 'he', 'be', 'wouldn', 'am', 'each', 'they', 'her', \"couldn't\", 'of', \"mustn't\", '`', 'to', 'now', 'this', \"wasn't\", \"it's\", '~', 'from', '<', 'nor', 'at', 'she', 'after', 'mustn', 'below', 'those', 'been', 'than', 'a', 'being', 'in', 'other', \"doesn't\", 'that', '>', 'an', 'while', \"should've\", 'i', 'd', 're', 'shouldn', 'won', 'me', 'aren', 'himself', \"won't\", 'your', 'shan', 'why', 'them', \"needn't\"}\n"
          ],
          "name": "stdout"
        }
      ]
    },
    {
      "cell_type": "code",
      "metadata": {
        "colab": {
          "base_uri": "https://localhost:8080/"
        },
        "id": "who38e3wJLl6",
        "outputId": "a612cbfb-24b8-449e-d841-aafa182ffb1e"
      },
      "source": [
        "!pip install beautifulsoup4"
      ],
      "execution_count": 11,
      "outputs": [
        {
          "output_type": "stream",
          "text": [
            "Requirement already satisfied: beautifulsoup4 in /usr/local/lib/python3.7/dist-packages (4.6.3)\n"
          ],
          "name": "stdout"
        }
      ]
    },
    {
      "cell_type": "code",
      "metadata": {
        "id": "aFwSEdW1JyE2"
      },
      "source": [
        " from bs4 import BeautifulSoup"
      ],
      "execution_count": 12,
      "outputs": []
    },
    {
      "cell_type": "code",
      "metadata": {
        "id": "E63Xg-PnE0WK"
      },
      "source": [
        "def strip_html(text):\n",
        "    soup = BeautifulSoup(text, \"html.parser\")\n",
        "    return soup.get_text()\n",
        "\n",
        "#Removing the square brackets\n",
        "def remove_between_square_brackets(text):\n",
        "    return re.sub('\\[[^]]*\\]', '', text)\n",
        "# Removing URL's\n",
        "def remove_between_square_brackets(text):\n",
        "    return re.sub(r'http\\S+', '', text)\n",
        "#Removing the stopwords from text\n",
        "def remove_stopwords(text):\n",
        "    final_text = []\n",
        "    for i in text.split():\n",
        "        if i.strip().lower() not in stop and i.strip().lower().isalpha():\n",
        "            final_text.append(i.strip().lower())\n",
        "    return \" \".join(final_text)\n"
      ],
      "execution_count": 13,
      "outputs": []
    },
    {
      "cell_type": "code",
      "metadata": {
        "id": "A-VYUx-iFrIm"
      },
      "source": [
        "def denoise_text(text):\n",
        "    text = strip_html(text)\n",
        "    text = remove_between_square_brackets(text)\n",
        "    text = remove_stopwords(text)\n",
        "    return text"
      ],
      "execution_count": 14,
      "outputs": []
    },
    {
      "cell_type": "markdown",
      "metadata": {
        "id": "kfIMUhibGNvA"
      },
      "source": [
        "Removing the noisy text from the 'headline column'"
      ]
    },
    {
      "cell_type": "code",
      "metadata": {
        "id": "rhidrdbvGjuY"
      },
      "source": [
        "#Apply function on 'headline' column\n",
        "import re\n",
        "\n",
        "df['headline']=df['headline'].apply(denoise_text)"
      ],
      "execution_count": 15,
      "outputs": []
    },
    {
      "cell_type": "code",
      "metadata": {
        "colab": {
          "base_uri": "https://localhost:8080/"
        },
        "id": "7DkO6i_cKF7j",
        "outputId": "da1a2168-b589-45d9-93a2-6070f38b1bd3"
      },
      "source": [
        "df['headline']"
      ],
      "execution_count": 16,
      "outputs": [
        {
          "output_type": "execute_result",
          "data": {
            "text/plain": [
              "0        former versace store clerk sues secret minorit...\n",
              "1            revival catches thorny political better worse\n",
              "2        mom starting fear web series closest thing gra...\n",
              "3                boehner wants wife come alternative ideas\n",
              "4          rowling wishes snape happy birthday magical way\n",
              "                               ...                        \n",
              "26704                              american politics moral\n",
              "26705                                           best hikes\n",
              "26706                                    reparations obama\n",
              "26707    israeli ban targeting boycott supporters raise...\n",
              "26708                                 gourmet gifts foodie\n",
              "Name: headline, Length: 26709, dtype: object"
            ]
          },
          "metadata": {
            "tags": []
          },
          "execution_count": 16
        }
      ]
    },
    {
      "cell_type": "markdown",
      "metadata": {
        "id": "UWHvjXnfLC0H"
      },
      "source": [
        "step3:Creating the vocabulary"
      ]
    },
    {
      "cell_type": "code",
      "metadata": {
        "colab": {
          "base_uri": "https://localhost:8080/"
        },
        "id": "HXWF-Gt1LlfA",
        "outputId": "e76ea207-6acc-4cff-b338-61f1f3ddcd42"
      },
      "source": [
        "def get_corpus(text):\n",
        "    words = []\n",
        "    for i in text:\n",
        "        for j in i.split():\n",
        "            words.append(j.strip())\n",
        "    return words\n",
        "corpus = get_corpus(df.headline)\n",
        "print(type(corpus))\n",
        "print(len(corpus))\n",
        "corpus[:20]"
      ],
      "execution_count": 17,
      "outputs": [
        {
          "output_type": "stream",
          "text": [
            "<class 'list'>\n",
            "163287\n"
          ],
          "name": "stdout"
        },
        {
          "output_type": "execute_result",
          "data": {
            "text/plain": [
              "['former',\n",
              " 'versace',\n",
              " 'store',\n",
              " 'clerk',\n",
              " 'sues',\n",
              " 'secret',\n",
              " 'minority',\n",
              " 'shoppers',\n",
              " 'revival',\n",
              " 'catches',\n",
              " 'thorny',\n",
              " 'political',\n",
              " 'better',\n",
              " 'worse',\n",
              " 'mom',\n",
              " 'starting',\n",
              " 'fear',\n",
              " 'web',\n",
              " 'series',\n",
              " 'closest']"
            ]
          },
          "metadata": {
            "tags": []
          },
          "execution_count": 17
        }
      ]
    },
    {
      "cell_type": "code",
      "metadata": {
        "colab": {
          "base_uri": "https://localhost:8080/"
        },
        "id": "sPCT_NSnMpxH",
        "outputId": "62672789-3b0f-4aac-fdd0-cf90c1bf27a7"
      },
      "source": [
        "#To count the word counts\n",
        "from collections import Counter\n",
        "counter = Counter(corpus)\n",
        "print(type(counter),len(counter))\n",
        "most_common = counter.most_common(20)\n",
        "most_common = dict(most_common)\n",
        "print(most_common)"
      ],
      "execution_count": 18,
      "outputs": [
        {
          "output_type": "stream",
          "text": [
            "<class 'collections.Counter'> 22782\n",
            "{'new': 1485, 'man': 1229, 'trump': 1157, 'one': 487, 'area': 484, 'donald': 468, 'says': 450, 'woman': 420, 'day': 391, 'first': 389, 'get': 385, 'like': 382, 'time': 369, 'people': 341, 'still': 326, 'obama': 325, 'make': 320, 'house': 319, 'life': 314, 'women': 310}\n"
          ],
          "name": "stdout"
        }
      ]
    },
    {
      "cell_type": "markdown",
      "metadata": {
        "id": "HcUie0_vPPCE"
      },
      "source": [
        "Step4:Model Building"
      ]
    },
    {
      "cell_type": "code",
      "metadata": {
        "colab": {
          "base_uri": "https://localhost:8080/",
          "height": 201,
          "referenced_widgets": [
            "f34ddbbb55e242dabf29eef93887e0e4",
            "d54006423439493f9309d14147714dce",
            "ee2766d52c9045c1b03f4189657fc763",
            "166b0e2d2e974208b05dbb0f3b167275",
            "35937aa4b7eb4687a2311d702ed16d63",
            "cb6db84e31ba43a9bfe88e2de4ffcdc6",
            "3ed506be68304fdaaeee343657a6b5f6",
            "9c9a02bc93414fe9b7c5d957f486451f",
            "9f1e2d4fa6a74aa1a67b4d7640229eb2",
            "0c203202848c4ae9a67fe55398505ddd",
            "826c75ea28e244fc8ca16318b6dd859e",
            "43e40554c3d94635a966ef5edb2f08fb",
            "daebd4a7d2c04d4b933c90dedc61e7a0",
            "49fbb54bfc634f01898e93837f69000a",
            "b18956666145418a8e719db4476fd5b1",
            "7bc4d894f104487f98a5baa57704b5c3",
            "e751821145794154b612984ac5e42829",
            "457ecd2b287345c4be927b36c654e111",
            "a44dd9e4c5d44948856b79bf94ddeb70",
            "0d3f33ac89974c41a88c9e1934ae7636",
            "5daf8b312929428892c3b4b1947aab04",
            "cc6fd3cbccc84e96aeb8f5e9a4c76603",
            "83dfaf95ef9f4fa18c52419212869f02",
            "7d8c9c60540f4f8586f63739d8811e26"
          ]
        },
        "id": "kbFzpROzO28a",
        "outputId": "cf212111-833e-4b8f-edc1-a9076d2ed734"
      },
      "source": [
        "#using DistilBERT which is a small, fast, cheap and light Transformer model \n",
        "\n",
        "from tokenizers import BertWordPieceTokenizer\n",
        "# First load the real tokenizer\n",
        "tokenizer = transformers.DistilBertTokenizer.from_pretrained('distilbert-base-uncased' , lower = True)\n",
        "# Save the loaded tokenizer locally,saving on google drive\n",
        "tokenizer.save_pretrained('/content/drive/MyDrive/distilbert_tokenizer')\n",
        "# Reload it with the huggingface tokenizers library\n",
        "fast_tokenizer = BertWordPieceTokenizer('/content/drive/MyDrive/distilbert_tokenizer/vocab.txt', lowercase=True)\n",
        "fast_tokenizer"
      ],
      "execution_count": 19,
      "outputs": [
        {
          "output_type": "display_data",
          "data": {
            "application/vnd.jupyter.widget-view+json": {
              "model_id": "f34ddbbb55e242dabf29eef93887e0e4",
              "version_minor": 0,
              "version_major": 2
            },
            "text/plain": [
              "HBox(children=(FloatProgress(value=0.0, description='Downloading', max=231508.0, style=ProgressStyle(descripti…"
            ]
          },
          "metadata": {
            "tags": []
          }
        },
        {
          "output_type": "stream",
          "text": [
            "\n"
          ],
          "name": "stdout"
        },
        {
          "output_type": "display_data",
          "data": {
            "application/vnd.jupyter.widget-view+json": {
              "model_id": "9f1e2d4fa6a74aa1a67b4d7640229eb2",
              "version_minor": 0,
              "version_major": 2
            },
            "text/plain": [
              "HBox(children=(FloatProgress(value=0.0, description='Downloading', max=28.0, style=ProgressStyle(description_w…"
            ]
          },
          "metadata": {
            "tags": []
          }
        },
        {
          "output_type": "stream",
          "text": [
            "\n"
          ],
          "name": "stdout"
        },
        {
          "output_type": "display_data",
          "data": {
            "application/vnd.jupyter.widget-view+json": {
              "model_id": "e751821145794154b612984ac5e42829",
              "version_minor": 0,
              "version_major": 2
            },
            "text/plain": [
              "HBox(children=(FloatProgress(value=0.0, description='Downloading', max=466062.0, style=ProgressStyle(descripti…"
            ]
          },
          "metadata": {
            "tags": []
          }
        },
        {
          "output_type": "stream",
          "text": [
            "\n"
          ],
          "name": "stdout"
        },
        {
          "output_type": "execute_result",
          "data": {
            "text/plain": [
              "Tokenizer(vocabulary_size=30522, model=BertWordPiece, unk_token=[UNK], sep_token=[SEP], cls_token=[CLS], pad_token=[PAD], mask_token=[MASK], clean_text=True, handle_chinese_chars=True, strip_accents=None, lowercase=True, wordpieces_prefix=##)"
            ]
          },
          "metadata": {
            "tags": []
          },
          "execution_count": 19
        }
      ]
    },
    {
      "cell_type": "markdown",
      "metadata": {
        "id": "WfHJCzA3UQM4"
      },
      "source": [
        "Tokenization steps:\n",
        "1.Firstly, tokenize all words in the sentence corpus\n",
        "2.Next, all the tokens are embedded using the learned embeddings from a WordPiece Tokenizer. For each word we get 786 dim. vector representation.\n",
        "3.Segment Embedding - Helps in distinguishing the words belonging to different sentences.\n",
        "4.Positional Embedding - This is used to provide the positional understanding for each word."
      ]
    },
    {
      "cell_type": "code",
      "metadata": {
        "colab": {
          "base_uri": "https://localhost:8080/"
        },
        "id": "h0MdEWJ1OGHb",
        "outputId": "53760b7e-295b-4d8f-e86a-2a0a29aa3874"
      },
      "source": [
        "X = df['headline']\n",
        "y = df['is_sarcastic']\n",
        "print(X.shape)\n",
        "print(y.shape)"
      ],
      "execution_count": 21,
      "outputs": [
        {
          "output_type": "stream",
          "text": [
            "(26709,)\n",
            "(26709,)\n"
          ],
          "name": "stdout"
        }
      ]
    },
    {
      "cell_type": "code",
      "metadata": {
        "id": "vn1VyO--VNG2",
        "colab": {
          "base_uri": "https://localhost:8080/"
        },
        "outputId": "bbbb0e6b-a61b-4ad7-cd40-4bb895eac9df"
      },
      "source": [
        "X_train,X_test,y_train,y_test = train_test_split(X,y,random_state = 0 , stratify = y)\n",
        "print(X_train[:2])\n",
        "print(type(X_train))\n",
        "print(X_train.shape)"
      ],
      "execution_count": 22,
      "outputs": [
        {
          "output_type": "stream",
          "text": [
            "3508             clinton commissions john williams compose\n",
            "23723    expectant parents throw values together last m...\n",
            "Name: headline, dtype: object\n",
            "<class 'pandas.core.series.Series'>\n",
            "(20031,)\n"
          ],
          "name": "stdout"
        }
      ]
    },
    {
      "cell_type": "code",
      "metadata": {
        "id": "8MP2cvIZVbpX"
      },
      "source": [
        "def fast_encode(texts, tokenizer, chunk_size=256, maxlen=512, enable_padding=True):\n",
        "\n",
        "    tokenizer.enable_truncation(max_length=maxlen)\n",
        "    if enable_padding:\n",
        "        tokenizer.enable_padding(length=maxlen)#max_length=maxlen\n",
        "    #tokenizer.enable_padding(max_length=None)\n",
        "    all_ids = []\n",
        "    #print(texts)\n",
        "    for i in range(0, len(texts), chunk_size):\n",
        "        text_chunk = texts[i:i+chunk_size].tolist()#texts[i:i+chunk_size].tolist()\n",
        "        \n",
        "        #print(text_chunk)\n",
        "        encs = tokenizer.encode_batch(text_chunk)\n",
        "        #print(encs)\n",
        "        all_ids.extend([enc.ids for enc in encs])#np.array(enc.ids) for enc in encs[enc.ids for enc in encs]\n",
        "        #arr=np.vstack([enc.ids for enc in encs])\n",
        "        #arr=np.hstack([enc.ids for enc in encs])\n",
        "    #all_ids=np.asarray(all_ids)    \n",
        "    #print(type(all_ids))\n",
        "    #print(arr)\n",
        "    return np.array(all_ids)#np.array(all_ids)\n",
        "    #return arr"
      ],
      "execution_count": 35,
      "outputs": []
    },
    {
      "cell_type": "code",
      "metadata": {
        "colab": {
          "base_uri": "https://localhost:8080/"
        },
        "id": "mhT5c6yBVpNq",
        "outputId": "f0ce52d8-8c09-4340-c6a5-41ed8df577e1"
      },
      "source": [
        "#import tensorflow as tf\n",
        "\n",
        "#X_train=np.asarray(X_train).astype(np.float32)\n",
        "#X_test=np.asarray(X_test).astype(np.float32)\n",
        "x_train = fast_encode(X_train, fast_tokenizer, maxlen=400)\n",
        "x_test = fast_encode(X_test, fast_tokenizer, maxlen=400)\n",
        "\n",
        "#x_train=np.expand_dims(x_train, axis=1)\n",
        "#x_train = tf.convert_to_tensor(x_train, dtype=tf.int64) \n",
        "#x_train=np.asarray(x_train)\n",
        "#x_train = np.asarray(x_train).astype(np.float32)\n",
        "#print(type(x_train),x_train.shape)\n",
        "#print(x_train.shape[0])#20031\n",
        "#xtrain_lst=[]\n",
        "#for i in range(x_train.shape[0]):\n",
        "   \n",
        "   #x_train[i]=np.array(x_train[i])\n",
        "   #print(x_train[i],type(x_train[i]))\n",
        "   #xtrain_lst.append(np.hstack(x_train[i]))\n",
        "print(x_train[:3],x_train.shape)\n",
        "#print(x_test[:5],x_test.shape)\n",
        "#x_train=np.array(xtrain_lst)\n",
        "#print(x_train)"
      ],
      "execution_count": 36,
      "outputs": [
        {
          "output_type": "stream",
          "text": [
            "[[  101  7207 13239 ...     0     0     0]\n",
            " [  101  5987  4630 ...     0     0     0]\n",
            " [  101  3113 15302 ...     0     0     0]] (20031, 400)\n"
          ],
          "name": "stdout"
        }
      ]
    },
    {
      "cell_type": "markdown",
      "metadata": {
        "id": "s6GjPL_dcAa6"
      },
      "source": [
        "using the pre-trained BERT model(used parallelly for masked language and next sentence prediction model) . Now after getting the pre-trained model, we can fine-tune the model for our own specific task.\n",
        "\n",
        "The key thing to notice is here is that for our final prediction we would only be using the output generated by the first token ([CLS]), after which we use a sigmoid activation for final prediction."
      ]
    },
    {
      "cell_type": "code",
      "metadata": {
        "id": "TTUFpVRTbAm3"
      },
      "source": [
        "def build_model(transformer, max_len=None):\n",
        "    \n",
        "    input_word_ids = Input(shape=(max_len,), dtype=tf.int32, name=\"input_word_ids\")\n",
        "   \n",
        "    sequence_output = transformer(input_word_ids)[0]\n",
        "    \n",
        "    cls_token = sequence_output[:, 0, :]\n",
        "    \n",
        "    out = Dense(1, activation='sigmoid')(cls_token)\n",
        "    \n",
        "    model = Model(inputs=input_word_ids, outputs=out)\n",
        "    model.compile(Adam(lr=2e-5), loss='binary_crossentropy', metrics=['accuracy'])\n",
        "    \n",
        "    return model"
      ],
      "execution_count": 37,
      "outputs": []
    },
    {
      "cell_type": "code",
      "metadata": {
        "colab": {
          "base_uri": "https://localhost:8080/"
        },
        "id": "T5KlHpnMfHXy",
        "outputId": "6f195518-6bfc-44b1-b8d3-2e7a46b589d4"
      },
      "source": [
        "#This model is used in tensorflow mode\n",
        "bert_model = transformers.TFDistilBertModel.from_pretrained('distilbert-base-uncased')#either  base-uncased or base-cased can be used "
      ],
      "execution_count": 38,
      "outputs": [
        {
          "output_type": "stream",
          "text": [
            "Some layers from the model checkpoint at distilbert-base-uncased were not used when initializing TFDistilBertModel: ['vocab_transform', 'activation_13', 'vocab_layer_norm', 'vocab_projector']\n",
            "- This IS expected if you are initializing TFDistilBertModel from the checkpoint of a model trained on another task or with another architecture (e.g. initializing a BertForSequenceClassification model from a BertForPreTraining model).\n",
            "- This IS NOT expected if you are initializing TFDistilBertModel from the checkpoint of a model that you expect to be exactly identical (initializing a BertForSequenceClassification model from a BertForSequenceClassification model).\n",
            "All the layers of TFDistilBertModel were initialized from the model checkpoint at distilbert-base-uncased.\n",
            "If your task is similar to the task the model of the checkpoint was trained on, you can already use TFDistilBertModel for predictions without further training.\n"
          ],
          "name": "stderr"
        }
      ]
    },
    {
      "cell_type": "code",
      "metadata": {
        "colab": {
          "base_uri": "https://localhost:8080/"
        },
        "id": "dHplKPT6flVE",
        "outputId": "b2a25534-8b5e-4c15-bf57-04e1faa44bf8"
      },
      "source": [
        "model = build_model(bert_model, max_len=400)\n",
        "model.summary()"
      ],
      "execution_count": 39,
      "outputs": [
        {
          "output_type": "stream",
          "text": [
            "WARNING:tensorflow:The parameters `output_attentions`, `output_hidden_states` and `use_cache` cannot be updated when calling a model.They have to be set to True/False in the config object (i.e.: `config=XConfig.from_pretrained('name', output_attentions=True)`).\n",
            "WARNING:tensorflow:The parameter `return_dict` cannot be set in graph mode and will always be set to `True`.\n",
            "Model: \"model_3\"\n",
            "_________________________________________________________________\n",
            "Layer (type)                 Output Shape              Param #   \n",
            "=================================================================\n",
            "input_word_ids (InputLayer)  [(None, 400)]             0         \n",
            "_________________________________________________________________\n",
            "tf_distil_bert_model_1 (TFDi TFBaseModelOutput(last_hi 66362880  \n",
            "_________________________________________________________________\n",
            "tf.__operators__.getitem_3 ( (None, 768)               0         \n",
            "_________________________________________________________________\n",
            "dense_3 (Dense)              (None, 1)                 769       \n",
            "=================================================================\n",
            "Total params: 66,363,649\n",
            "Trainable params: 66,363,649\n",
            "Non-trainable params: 0\n",
            "_________________________________________________________________\n"
          ],
          "name": "stdout"
        }
      ]
    },
    {
      "cell_type": "markdown",
      "metadata": {
        "id": "lljwwA1u_-Qu"
      },
      "source": [
        "step5:Model Training,Prediction and EDA"
      ]
    },
    {
      "cell_type": "code",
      "metadata": {
        "colab": {
          "base_uri": "https://localhost:8080/"
        },
        "id": "CSRPZV-bgiiY",
        "outputId": "b6014344-f2fd-4594-cbab-d7df77d32a6e"
      },
      "source": [
        "history = model.fit(x_train,y_train,batch_size = 10 ,validation_data=(x_test,y_test),epochs = 1)"
      ],
      "execution_count": 40,
      "outputs": [
        {
          "output_type": "stream",
          "text": [
            "WARNING:tensorflow:The parameters `output_attentions`, `output_hidden_states` and `use_cache` cannot be updated when calling a model.They have to be set to True/False in the config object (i.e.: `config=XConfig.from_pretrained('name', output_attentions=True)`).\n",
            "WARNING:tensorflow:The parameter `return_dict` cannot be set in graph mode and will always be set to `True`.\n",
            "WARNING:tensorflow:The parameters `output_attentions`, `output_hidden_states` and `use_cache` cannot be updated when calling a model.They have to be set to True/False in the config object (i.e.: `config=XConfig.from_pretrained('name', output_attentions=True)`).\n",
            "WARNING:tensorflow:The parameter `return_dict` cannot be set in graph mode and will always be set to `True`.\n",
            "2004/2004 [==============================] - ETA: 0s - loss: 0.6191 - accuracy: 0.6370WARNING:tensorflow:The parameters `output_attentions`, `output_hidden_states` and `use_cache` cannot be updated when calling a model.They have to be set to True/False in the config object (i.e.: `config=XConfig.from_pretrained('name', output_attentions=True)`).\n",
            "WARNING:tensorflow:The parameter `return_dict` cannot be set in graph mode and will always be set to `True`.\n",
            "2004/2004 [==============================] - 602s 297ms/step - loss: 0.6190 - accuracy: 0.6370 - val_loss: 0.4070 - val_accuracy: 0.8109\n"
          ],
          "name": "stdout"
        }
      ]
    },
    {
      "cell_type": "code",
      "metadata": {
        "colab": {
          "base_uri": "https://localhost:8080/"
        },
        "id": "1ET_8IJW_rqx",
        "outputId": "6aa1265b-b10d-4d77-8f4e-8b245a6360e7"
      },
      "source": [
        "pred = model.predict(x_test)\n",
        "pred = np.round(pred).astype(int)#1 indiactes sarcasm presence, 0 indicates non-sarcasm\n",
        "text=fast_tokenizer.decode(x_test[1])\n",
        "print(text)\n",
        "print(x_test[:5])\n",
        "print(pred[:5])"
      ],
      "execution_count": 51,
      "outputs": [
        {
          "output_type": "stream",
          "text": [
            "watch cat lose mind faced optical illusion\n",
            "[[ 101 2198 7380 ...    0    0    0]\n",
            " [ 101 3422 4937 ...    0    0    0]\n",
            " [ 101 3611 3201 ...    0    0    0]\n",
            " [ 101 8495 2708 ...    0    0    0]\n",
            " [ 101 9577 2158 ...    0    0    0]]\n",
            "[[0]\n",
            " [0]\n",
            " [1]\n",
            " [1]\n",
            " [1]]\n"
          ],
          "name": "stdout"
        }
      ]
    },
    {
      "cell_type": "code",
      "metadata": {
        "colab": {
          "base_uri": "https://localhost:8080/"
        },
        "id": "VCwU6dG1HIs6",
        "outputId": "75ded8d3-4c6b-41b9-d218-1b764721f64a"
      },
      "source": [
        "#predict text and sarcasm using DistillBert Model\n",
        "pred_dict={}\n",
        "for i in range(10,20):\n",
        "    pred_dict['headline']=(fast_tokenizer.decode(x_test[i]))\n",
        "    pred_dict['is_sarcastic']=pred[i]#(np.round(pred[i]).astype(int))\n",
        "    print(pred_dict)\n"
      ],
      "execution_count": 69,
      "outputs": [
        {
          "output_type": "stream",
          "text": [
            "{'headline': 'cease print edition', 'is_sarcastic': array([0])}\n",
            "{'headline': 'selma teaches us mixing pills alcohol', 'is_sarcastic': array([0])}\n",
            "{'headline': 'job market still years away full recovery', 'is_sarcastic': array([1])}\n",
            "{'headline': 'shopper takes bizarre journey beyond bath', 'is_sarcastic': array([1])}\n",
            "{'headline': 'cnbc cameraman believe filming another blog computer monitor', 'is_sarcastic': array([0])}\n",
            "{'headline': 'germans', 'is_sarcastic': array([0])}\n",
            "{'headline': 'syrian electronic army little fun inevitable upcoming deaths hands rebels', 'is_sarcastic': array([1])}\n",
            "{'headline': 'boardroom begins quake ceo announces vision future company', 'is_sarcastic': array([1])}\n",
            "{'headline': 'candidate greg gianforte gets slammed scorching new memes', 'is_sarcastic': array([1])}\n",
            "{'headline': 'cabinet move new open plan offices', 'is_sarcastic': array([1])}\n"
          ],
          "name": "stdout"
        }
      ]
    },
    {
      "cell_type": "code",
      "metadata": {
        "colab": {
          "base_uri": "https://localhost:8080/"
        },
        "id": "iOxNe5e-DKSL",
        "outputId": "88e62658-9f94-4c80-c804-018cdb2822ba"
      },
      "source": [
        "cm = confusion_matrix(y_test,pred)\n",
        "print('confusion matrix',cm)"
      ],
      "execution_count": 44,
      "outputs": [
        {
          "output_type": "stream",
          "text": [
            "confusion matrix [[3413  334]\n",
            " [ 929 2002]]\n"
          ],
          "name": "stdout"
        }
      ]
    },
    {
      "cell_type": "code",
      "metadata": {
        "colab": {
          "base_uri": "https://localhost:8080/",
          "height": 351
        },
        "id": "1OZujKAkDvgC",
        "outputId": "cc514606-2a34-4f92-f438-0fd9fea039dd"
      },
      "source": [
        "plt.figure(figsize = (5,5))\n",
        "sns.heatmap(cm,cmap= \"Greys\", linecolor = 'black' , linewidth = 1 , annot = True, fmt='')\n",
        "plt.xlabel(\"Predicted\")\n",
        "plt.ylabel(\"Actual\")"
      ],
      "execution_count": 49,
      "outputs": [
        {
          "output_type": "execute_result",
          "data": {
            "text/plain": [
              "Text(24.0, 0.5, 'Actual')"
            ]
          },
          "metadata": {
            "tags": []
          },
          "execution_count": 49
        },
        {
          "output_type": "display_data",
          "data": {
            "image/png": "[encoded data removed]",
            "text/plain": [
              "<Figure size 360x360 with 2 Axes>"
            ]
          },
          "metadata": {
            "tags": [],
            "needs_background": "light"
          }
        }
      ]
    }
  ]
}